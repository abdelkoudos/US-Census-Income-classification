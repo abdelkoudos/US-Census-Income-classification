{
 "cells": [
  {
   "cell_type": "code",
   "execution_count": 3,
   "id": "52c8e9f3-afd6-4003-af2b-99489e8bcde6",
   "metadata": {},
   "outputs": [
    {
     "name": "stderr",
     "output_type": "stream",
     "text": [
      "C:\\Users\\t-aelmiggabbar\\AppData\\Local\\Temp\\ipykernel_6556\\1224125772.py:12: DtypeWarning: Columns (15) have mixed types. Specify dtype option on import or set low_memory=False.\n",
      "  df_org = pd.read_csv(r\"census_income_original_2.csv\")\n"
     ]
    }
   ],
   "source": [
    "import matplotlib.pyplot as plt\n",
    "import pandas as pd\n",
    "import numpy as np\n",
    "import category_encoders as ce\n",
    "import statsmodels.stats.power as smp\n",
    "from sklearn.preprocessing import MinMaxScaler, QuantileTransformer\n",
    "from sklearn.model_selection import train_test_split\n",
    "import scipy.stats as stats\n",
    "import math\n",
    "\n",
    "\n",
    "df_org = pd.read_csv(r\"census_income_original_2.csv\")\n",
    "df = df_org.copy()"
   ]
  },
  {
   "cell_type": "code",
   "execution_count": 5,
   "id": "70e59af9-336b-4dda-a2c4-3fe237644e40",
   "metadata": {},
   "outputs": [
    {
     "name": "stdout",
     "output_type": "stream",
     "text": [
      "Stratified Sample Size: 32\n",
      "Population Size: 13085\n",
      "Sample Mean: 32658.75 || Population Mean: 10193.00\n",
      "Proportions in Population - High: 0.001, Low: 0.999\n",
      "Proportions in Stratified Sample - High: 0.250, Low: 0.750\n",
      "High Income Sample Size: 8 || Low Income Sample Size: 24\n"
     ]
    }
   ],
   "source": [
    "import pandas as pd\n",
    "import numpy as np\n",
    "df['income>50k'] = df['income'].apply(lambda x: 1 if x == '>50K' else 0)\n",
    "\n",
    "df['income_value'] = pd.to_numeric(df['income_value'], errors='coerce')\n",
    "df = df[df['income_value'].notna()]\n",
    "df = df[~((df['income>50k'] == 1) & (df['income_value'] <= 50000))]\n",
    "df['income>50k'] = df['income'].apply(lambda x: 1 if x == '>50K' else 0)\n",
    "\n",
    "high_income = df[df['income>50k'] == 1]\n",
    "low_income = df[df['income>50k'] == 0]\n",
    "\n",
    "high_income_count = int(len(high_income) * 0.5)\n",
    "low_income_count = int(high_income_count * 3)\n",
    "\n",
    "high_income_sampled = high_income.sample(n=high_income_count, random_state=42)\n",
    "low_income_sampled = low_income.sample(n=low_income_count, random_state=42)\n",
    "\n",
    "stratified_sample = pd.concat([high_income_sampled, low_income_sampled])\n",
    "\n",
    "sample_mean = stratified_sample['income_value'].mean()\n",
    "pop_mean = df['income_value'].mean()\n",
    "\n",
    "high_income_prop = len(high_income) / len(df)\n",
    "low_income_prop = len(low_income) / len(df)\n",
    "\n",
    "high_income_sampled_prop = len(high_income_sampled) / len(stratified_sample)\n",
    "low_income_sampled_prop = len(low_income_sampled) / len(stratified_sample)\n",
    "\n",
    "print(f\"Stratified Sample Size: {stratified_sample.shape[0]}\")\n",
    "print(f\"Population Size: {len(df)}\")\n",
    "print(f\"Sample Mean: {sample_mean:.2f} || Population Mean: {pop_mean:.2f}\")\n",
    "print(f\"Proportions in Population - High: {high_income_prop:.3f}, Low: {low_income_prop:.3f}\")\n",
    "print(f\"Proportions in Stratified Sample - High: {high_income_sampled_prop:.3f}, Low: {low_income_sampled_prop:.3f}\")\n",
    "print(f\"High Income Sample Size: {len(high_income_sampled)} || Low Income Sample Size: {len(low_income_sampled)}\")\n"
   ]
  },
  {
   "cell_type": "code",
   "execution_count": 7,
   "id": "d824a4da-090e-4b85-bac4-bd0b2f7e965a",
   "metadata": {},
   "outputs": [
    {
     "name": "stdout",
     "output_type": "stream",
     "text": [
      "0.000000000000000\n",
      "Reject the null hypothesis. The sample mean is SIGNIFICANTLY LESS than the population mean.\n"
     ]
    }
   ],
   "source": [
    "pop_mu_aprox = stratified_sample['income_value'].mean()\n",
    "t_stat, p_value = stats.ttest_1samp(df['income_value'], pop_mu_aprox)\n",
    "p_value_one_tailed = p_value / 2\n",
    "\n",
    "alpha = 0.05\n",
    "print(f\"{p_value_one_tailed:.15f}\")\n",
    "if p_value_one_tailed < alpha:\n",
    "    print(\"Reject the null hypothesis. The sample mean is SIGNIFICANTLY LESS than the population mean.\")\n",
    "else:\n",
    "    print(\"Fail to reject the null hypothesis. The sample mean is NOT SIGNIFICANTLY LESS than the population mean.\")"
   ]
  },
  {
   "cell_type": "code",
   "execution_count": 8,
   "id": "a995149c-33a7-450d-b479-829b4ee48c7a",
   "metadata": {},
   "outputs": [
    {
     "data": {
      "text/plain": [
       "32658.75"
      ]
     },
     "execution_count": 8,
     "metadata": {},
     "output_type": "execute_result"
    }
   ],
   "source": [
    "pop_mu_aprox"
   ]
  },
  {
   "cell_type": "code",
   "execution_count": null,
   "id": "5d0950a6-4c19-44db-b69f-f3b40fe26766",
   "metadata": {},
   "outputs": [],
   "source": [
    "income_value['income>50k'].value_counts()"
   ]
  },
  {
   "cell_type": "code",
   "execution_count": 10,
   "id": "da4679b9-8755-4cff-af0e-624539f85e6f",
   "metadata": {},
   "outputs": [],
   "source": [
    "\n",
    "\n",
    "def plot_cont(df, col, bins=20):\n",
    "    # Calculate Q1, Q3, IQR, and the lower and upper bounds for outliers\n",
    "    Q1 = df[col].quantile(0.25)\n",
    "    Q3 = df[col].quantile(0.75)\n",
    "    IQR = Q3 - Q1\n",
    "    min_value = df[col].min()\n",
    "    max_value = df[col].max()\n",
    "    \n",
    "    # Freedman-Diaconis bin calculation\n",
    "\n",
    "    # Calculate outlier boundaries\n",
    "    lower_bound = Q1 - 1.5 * IQR\n",
    "    upper_bound = Q3 + 1.5 * IQR\n",
    "    \n",
    "    # Get the outliers\n",
    "    outliers = df[(df[col] < lower_bound) | (df[col] > upper_bound)]\n",
    "    print(f\"Outliers for {col}:\")\n",
    "    print(f\"Lower bound: {lower_bound}, Upper bound: {upper_bound}\")\n",
    "    print(f\"Number of outliers: {outliers.shape[0]}\")\n",
    "\n",
    "    from scipy.stats import zscore\n",
    "\n",
    "    df['zscore'] = zscore(df[col])\n",
    "    outliers = df[df['zscore'].abs() > 3]  # For example, z-scores greater than 3 indicate outliers\n",
    "    print(f\"Number of outliers based on z-score: {outliers.shape[0]}\")\n",
    "\n",
    "    \n",
    "    # Plotting\n",
    "    plt.figure(figsize=(8, 3))\n",
    "    plt.subplot(1, 2, 1)\n",
    "    plt.hist(df[col], bins=bins, edgecolor='black', alpha=0.7)\n",
    "    plt.title(f\"Histogram of {col}\")\n",
    "    plt.xlabel(col)\n",
    "    plt.ylabel(\"Frequency\")\n",
    "\n",
    "    # Boxplot\n",
    "    plt.subplot(1, 2, 2)\n",
    "    plt.boxplot(df[col])\n",
    "    plt.title(f\"Boxplot of {col}\")\n",
    "\n",
    "    # QQ plot\n",
    "    plt.subplot(1, 2, 2)\n",
    "    stats.probplot(df[col].dropna(), dist=\"norm\", plot=plt)\n",
    "    plt.title(f\"QQ Plot for {col}\")\n",
    "\n",
    "    plt.tight_layout()\n",
    "    plt.show()\n",
    "\n",
    "    plt.tight_layout()\n",
    "    plt.show()\n"
   ]
  },
  {
   "cell_type": "code",
   "execution_count": 11,
   "id": "8dd58e04-b5f6-435b-8c0f-226f89b5f864",
   "metadata": {},
   "outputs": [
    {
     "name": "stdout",
     "output_type": "stream",
     "text": [
      "Outliers for income_value:\n",
      "Lower bound: -11053.5, Upper bound: 29814.5\n",
      "Number of outliers: 461\n",
      "Number of outliers based on z-score: 312\n"
     ]
    },
    {
     "data": {
      "image/png": "[encoded data removed]",
      "text/plain": [
       "<Figure size 800x300 with 2 Axes>"
      ]
     },
     "metadata": {},
     "output_type": "display_data"
    },
    {
     "data": {
      "text/plain": [
       "<Figure size 640x480 with 0 Axes>"
      ]
     },
     "metadata": {},
     "output_type": "display_data"
    }
   ],
   "source": [
    "plot_cont(df, \"income_value\", bins=20)"
   ]
  },
  {
   "cell_type": "code",
   "execution_count": null,
   "id": "9b961baa-8261-4320-8157-f656eeacc7d6",
   "metadata": {},
   "outputs": [],
   "source": []
  },
  {
   "cell_type": "code",
   "execution_count": null,
   "id": "a5d7b92e-4152-46b1-8181-8dd02266dd44",
   "metadata": {},
   "outputs": [],
   "source": []
  }
 ],
 "metadata": {
  "kernelspec": {
   "display_name": "Python (task3_kernell)",
   "language": "python",
   "name": "task3_env"
  },
  "language_info": {
   "codemirror_mode": {
    "name": "ipython",
    "version": 3
   },
   "file_extension": ".py",
   "mimetype": "text/x-python",
   "name": "python",
   "nbconvert_exporter": "python",
   "pygments_lexer": "ipython3",
   "version": "3.9.21"
  }
 },
 "nbformat": 4,
 "nbformat_minor": 5
}
