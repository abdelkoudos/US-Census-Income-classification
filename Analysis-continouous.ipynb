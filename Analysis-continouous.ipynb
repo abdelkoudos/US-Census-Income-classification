{
 "cells": [
  {
   "cell_type": "code",
   "execution_count": 31,
   "id": "af8bad6d-53e2-43e0-b891-9e7ec58a0685",
   "metadata": {},
   "outputs": [],
   "source": [
    "import pandas as pd\n",
    "import numpy as np\n",
    "from sklearn.model_selection import train_test_split\n",
    "import matplotlib.pyplot as plt\n",
    "from collections import Counter\n",
    "import category_encoders as ce\n",
    "import scipy.stats as stats\n",
    "from scipy.stats import chi2_contingency\n",
    "import seaborn as sns\n",
    "from sklearn.preprocessing import MinMaxScaler"
   ]
  },
  {
   "cell_type": "code",
   "execution_count": 32,
   "id": "1e6d2e93-7fe5-4b21-bc8a-35c7804d99b6",
   "metadata": {},
   "outputs": [
    {
     "name": "stderr",
     "output_type": "stream",
     "text": [
      "C:\\Users\\t-aelmiggabbar\\AppData\\Local\\Temp\\ipykernel_1860\\911199155.py:3: DtypeWarning: Columns (15) have mixed types. Specify dtype option on import or set low_memory=False.\n",
      "  df = pd.read_csv(r\"census_income_original_2.csv\")\n"
     ]
    }
   ],
   "source": [
    "#data is age\tworkclass\teducation\teducation.num\tmarital.status\toccupation\trelationship\trace\tGender\tcapital.gain\tcapital.loss\thours.per.week\tnative.country\tincome\tincome_value\n",
    "\n",
    "df = pd.read_csv(r\"census_income_original_2.csv\")\n",
    "df['income>50k'] = df['income'].apply(lambda x: 1 if x == '>50K' else 0)\n",
    "df.drop(columns=['income'], inplace=True)\n",
    "df_cleaned = df\n",
    "\n",
    "df_cleaned['income_value'] = pd.to_numeric(df['income_value'], errors='coerce')\n",
    "df_cleaned = df[~((df['income_value'] < 50000) & (df['income>50k'] == 1))]\n",
    "df_cleaned = df[~((df['income_value'] >= 50000) & (df['income>50k'] == 0))]"
   ]
  },
  {
   "cell_type": "code",
   "execution_count": 33,
   "id": "4cb9c9f8-d965-4cbe-9763-7fee1fe68c4a",
   "metadata": {},
   "outputs": [
    {
     "name": "stderr",
     "output_type": "stream",
     "text": [
      "C:\\Users\\t-aelmiggabbar\\AppData\\Local\\Temp\\ipykernel_1860\\2410544882.py:2: DtypeWarning: Columns (15) have mixed types. Specify dtype option on import or set low_memory=False.\n",
      "  df = pd.read_csv(r\"census_income_original_2.csv\")\n"
     ]
    }
   ],
   "source": [
    "\n",
    "# Load the dataset\n",
    "df = pd.read_csv(r\"census_income_original_2.csv\")\n",
    "df['income>50k'] = df['income'].apply(lambda x: 1 if x == '>50K' else 0)\n",
    "df.drop(columns=['income'], inplace=True)\n",
    "\n",
    "# Clean the data based on income_value and income>50k\n",
    "df['income_value'] = pd.to_numeric(df['income_value'], errors='coerce')\n",
    "df_cleaned = df[~((df['income_value'] < 50000) & (df['income>50k'] == 1))]\n",
    "df_cleaned = df[~((df['income_value'] >= 50000) & (df['income>50k'] == 0))]\n",
    "\n",
    "cont_cols = ['income_value', 'education.num', 'capital.gain', 'capital.loss', \n",
    "            'age', 'hours.per.week']\n",
    "df2 = df_cleaned[cont_cols].copy()\n",
    "df2['capital.loss'] = df2['capital.loss'] * -1\n",
    "df2['net_capital'] = df2['capital.gain'] + df2['capital.loss']\n",
    "df2.drop(columns=['capital.gain', 'capital.loss'], inplace=True)\n",
    "\n"
   ]
  },
  {
   "cell_type": "code",
   "execution_count": 36,
   "id": "5a61b0a7-c316-40c1-9f07-ff275522f7d5",
   "metadata": {},
   "outputs": [
    {
     "data": {
      "text/html": [
       "<div>\n",
       "<style scoped>\n",
       "    .dataframe tbody tr th:only-of-type {\n",
       "        vertical-align: middle;\n",
       "    }\n",
       "\n",
       "    .dataframe tbody tr th {\n",
       "        vertical-align: top;\n",
       "    }\n",
       "\n",
       "    .dataframe thead th {\n",
       "        text-align: right;\n",
       "    }\n",
       "</style>\n",
       "<table border=\"1\" class=\"dataframe\">\n",
       "  <thead>\n",
       "    <tr style=\"text-align: right;\">\n",
       "      <th></th>\n",
       "      <th>income_value</th>\n",
       "      <th>education.num</th>\n",
       "      <th>age</th>\n",
       "      <th>hours.per.week</th>\n",
       "      <th>net_capital</th>\n",
       "    </tr>\n",
       "  </thead>\n",
       "  <tbody>\n",
       "    <tr>\n",
       "      <th>count</th>\n",
       "      <td>13132.000000</td>\n",
       "      <td>13132.000000</td>\n",
       "      <td>13132.000000</td>\n",
       "      <td>13132.000000</td>\n",
       "      <td>13132.000000</td>\n",
       "    </tr>\n",
       "    <tr>\n",
       "      <th>mean</th>\n",
       "      <td>10157.251761</td>\n",
       "      <td>9.634481</td>\n",
       "      <td>37.131739</td>\n",
       "      <td>39.031450</td>\n",
       "      <td>273.979363</td>\n",
       "    </tr>\n",
       "    <tr>\n",
       "      <th>std</th>\n",
       "      <td>8847.092120</td>\n",
       "      <td>2.427339</td>\n",
       "      <td>14.177165</td>\n",
       "      <td>12.263139</td>\n",
       "      <td>3864.808842</td>\n",
       "    </tr>\n",
       "    <tr>\n",
       "      <th>min</th>\n",
       "      <td>0.050000</td>\n",
       "      <td>1.000000</td>\n",
       "      <td>17.000000</td>\n",
       "      <td>1.000000</td>\n",
       "      <td>-4356.000000</td>\n",
       "    </tr>\n",
       "    <tr>\n",
       "      <th>25%</th>\n",
       "      <td>4233.500000</td>\n",
       "      <td>9.000000</td>\n",
       "      <td>26.000000</td>\n",
       "      <td>36.000000</td>\n",
       "      <td>0.000000</td>\n",
       "    </tr>\n",
       "    <tr>\n",
       "      <th>50%</th>\n",
       "      <td>7644.000000</td>\n",
       "      <td>9.000000</td>\n",
       "      <td>34.000000</td>\n",
       "      <td>40.000000</td>\n",
       "      <td>0.000000</td>\n",
       "    </tr>\n",
       "    <tr>\n",
       "      <th>75%</th>\n",
       "      <td>14446.750000</td>\n",
       "      <td>10.000000</td>\n",
       "      <td>46.000000</td>\n",
       "      <td>40.000000</td>\n",
       "      <td>0.000000</td>\n",
       "    </tr>\n",
       "    <tr>\n",
       "      <th>max</th>\n",
       "      <td>100145.000000</td>\n",
       "      <td>16.000000</td>\n",
       "      <td>90.000000</td>\n",
       "      <td>99.000000</td>\n",
       "      <td>99999.000000</td>\n",
       "    </tr>\n",
       "  </tbody>\n",
       "</table>\n",
       "</div>"
      ],
      "text/plain": [
       "        income_value  education.num           age  hours.per.week  \\\n",
       "count   13132.000000   13132.000000  13132.000000    13132.000000   \n",
       "mean    10157.251761       9.634481     37.131739       39.031450   \n",
       "std      8847.092120       2.427339     14.177165       12.263139   \n",
       "min         0.050000       1.000000     17.000000        1.000000   \n",
       "25%      4233.500000       9.000000     26.000000       36.000000   \n",
       "50%      7644.000000       9.000000     34.000000       40.000000   \n",
       "75%     14446.750000      10.000000     46.000000       40.000000   \n",
       "max    100145.000000      16.000000     90.000000       99.000000   \n",
       "\n",
       "        net_capital  \n",
       "count  13132.000000  \n",
       "mean     273.979363  \n",
       "std     3864.808842  \n",
       "min    -4356.000000  \n",
       "25%        0.000000  \n",
       "50%        0.000000  \n",
       "75%        0.000000  \n",
       "max    99999.000000  "
      ]
     },
     "execution_count": 36,
     "metadata": {},
     "output_type": "execute_result"
    }
   ],
   "source": [
    "df2.describe()"
   ]
  },
  {
   "cell_type": "code",
   "execution_count": 35,
   "id": "5bc8d0b0-c61e-4af0-97c7-70a63798b223",
   "metadata": {},
   "outputs": [
    {
     "data": {
      "image/png": "[encoded data removed]",
      "text/plain": [
       "<Figure size 700x500 with 2 Axes>"
      ]
     },
     "metadata": {},
     "output_type": "display_data"
    },
    {
     "name": "stdout",
     "output_type": "stream",
     "text": [
      "P-values for correlations:\n",
      "               income_value education.num     age hours.per.week net_capital\n",
      "age                     0.0           0.0     0.0         0.0001         0.0\n",
      "education.num        0.3972           0.0     0.0            0.0         0.0\n",
      "hours.per.week       0.0167           0.0  0.0001            0.0      0.0003\n",
      "income_value            0.0        0.3972     0.0         0.0167         0.0\n",
      "net_capital             0.0           0.0     0.0         0.0003         0.0\n"
     ]
    },
    {
     "name": "stderr",
     "output_type": "stream",
     "text": [
      "C:\\Users\\t-aelmiggabbar\\AppData\\Local\\Temp\\ipykernel_1860\\3094991113.py:20: FutureWarning: ChainedAssignmentError: behaviour will change in pandas 3.0!\n",
      "You are setting values through chained assignment. Currently this works in certain cases, but when using Copy-on-Write (which will become the default behaviour in pandas 3.0) this will never work to update the original DataFrame or Series, because the intermediate object on which we are setting values will behave as a copy.\n",
      "A typical example is when you are setting values in a column of a DataFrame, like:\n",
      "\n",
      "df[\"col\"][row_indexer] = value\n",
      "\n",
      "Use `df.loc[row_indexer, \"col\"] = values` instead, to perform the assignment in a single step and ensure this keeps updating the original `df`.\n",
      "\n",
      "See the caveats in the documentation: https://pandas.pydata.org/pandas-docs/stable/user_guide/indexing.html#returning-a-view-versus-a-copy\n",
      "\n",
      "  p_values[r][c] = round(pearsonr(df[r], df[c])[1], 4)\n"
     ]
    }
   ],
   "source": [
    "import pandas as pd\n",
    "import numpy as np\n",
    "import seaborn as sns\n",
    "import matplotlib.pyplot as plt\n",
    "from scipy.stats import pearsonr\n",
    "df2 = df2.replace([np.inf, -np.inf], np.nan) \n",
    "df2 = df2.dropna()\n",
    "corr_matrix = df2.corr()\n",
    "\n",
    "plt.figure(figsize=(7, 5))\n",
    "sns.heatmap(corr_matrix, annot=True, fmt=\".2f\")\n",
    "plt.title(\"Correlation Matrix\")\n",
    "plt.show()\n",
    "\n",
    "def calculate_pvalues(df):\n",
    "    df_cols = pd.DataFrame(columns=df.columns)\n",
    "    p_values = df_cols.transpose().join(df_cols, how='outer')\n",
    "    for r in df.columns:\n",
    "        for c in df.columns:\n",
    "            p_values[r][c] = round(pearsonr(df[r], df[c])[1], 4)\n",
    "    return p_values\n",
    "\n",
    "p_values = calculate_pvalues(df2)\n",
    "print(\"P-values for correlations:\")\n",
    "print(p_values)"
   ]
  },
  {
   "cell_type": "code",
   "execution_count": null,
   "id": "b9f57225-c296-4eb4-aed2-c928d4256464",
   "metadata": {},
   "outputs": [],
   "source": []
  }
 ],
 "metadata": {
  "kernelspec": {
   "display_name": "Python (task3_kernell)",
   "language": "python",
   "name": "task3_env"
  },
  "language_info": {
   "codemirror_mode": {
    "name": "ipython",
    "version": 3
   },
   "file_extension": ".py",
   "mimetype": "text/x-python",
   "name": "python",
   "nbconvert_exporter": "python",
   "pygments_lexer": "ipython3",
   "version": "3.9.21"
  }
 },
 "nbformat": 4,
 "nbformat_minor": 5
}
